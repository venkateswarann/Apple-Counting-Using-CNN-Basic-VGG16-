{
  "nbformat": 4,
  "nbformat_minor": 0,
  "metadata": {
    "kernelspec": {
      "display_name": "Python 3",
      "language": "python",
      "name": "python3"
    },
    "language_info": {
      "codemirror_mode": {
        "name": "ipython",
        "version": 3
      },
      "file_extension": ".py",
      "mimetype": "text/x-python",
      "name": "python",
      "nbconvert_exporter": "python",
      "pygments_lexer": "ipython3",
      "version": "3.7.6"
    },
    "papermill": {
      "duration": 7689.831975,
      "end_time": "2020-12-31T00:41:55.460618",
      "environment_variables": {},
      "exception": null,
      "input_path": "__notebook__.ipynb",
      "output_path": "__notebook__.ipynb",
      "parameters": {},
      "start_time": "2020-12-30T22:33:45.628643",
      "version": "2.1.0"
    },
    "colab": {
      "name": "Apple Counting CNN Approach 2",
      "provenance": [],
      "collapsed_sections": []
    },
    "accelerator": "GPU"
  },
  "cells": [
    {
      "cell_type": "markdown",
      "metadata": {
        "papermill": {
          "duration": 0.008938,
          "end_time": "2020-12-30T22:33:49.961716",
          "exception": false,
          "start_time": "2020-12-30T22:33:49.952778",
          "status": "completed"
        },
        "tags": [],
        "id": "rGnd9yOTVh8u"
      },
      "source": [
        "**Define all the imports**"
      ]
    },
    {
      "cell_type": "code",
      "metadata": {
        "execution": {
          "iopub.execute_input": "2020-12-30T22:33:49.987108Z",
          "iopub.status.busy": "2020-12-30T22:33:49.986391Z",
          "iopub.status.idle": "2020-12-30T22:33:51.853310Z",
          "shell.execute_reply": "2020-12-30T22:33:51.852700Z"
        },
        "papermill": {
          "duration": 1.882221,
          "end_time": "2020-12-30T22:33:51.853442",
          "exception": false,
          "start_time": "2020-12-30T22:33:49.971221",
          "status": "completed"
        },
        "tags": [],
        "id": "Y4EspdXtVh80"
      },
      "source": [
        "import os\n",
        "import cv2\n",
        "import numpy as np\n",
        "\n",
        "\n",
        "import matplotlib.pyplot as plt\n",
        "\n",
        "import tensorflow as tf\n",
        "from tensorflow.keras.preprocessing.image import ImageDataGenerator\n",
        "from tensorflow.keras import datasets, layers, models\n",
        "from tensorflow.keras.models import Sequential\n",
        "from tensorflow.keras.layers import Dense, Dropout, Activation, Flatten\n",
        "from tensorflow.keras.layers import Conv2D, MaxPooling2D\n",
        "from tensorflow.keras.callbacks import TensorBoard\n",
        "\n",
        "\n",
        "from PIL import Image\n",
        "\n",
        "import matplotlib.pyplot as plt\n",
        "import numpy as np\n",
        "from matplotlib.image import imread\n",
        "import cv2"
      ],
      "execution_count": null,
      "outputs": []
    },
    {
      "cell_type": "code",
      "metadata": {
        "colab": {
          "base_uri": "https://localhost:8080/"
        },
        "id": "RAbxYqC4Vq-D",
        "outputId": "208c0927-b353-4e9d-d244-704330e6ea82"
      },
      "source": [
        "from google.colab import drive\n",
        "drive.mount('/content/drive')\n",
        "\n",
        "root_path = '../input/minneapple/detection/train'"
      ],
      "execution_count": null,
      "outputs": [
        {
          "output_type": "stream",
          "text": [
            "Mounted at /content/drive\n"
          ],
          "name": "stdout"
        }
      ]
    },
    {
      "cell_type": "code",
      "metadata": {
        "id": "7_toYEFEXlvc"
      },
      "source": [
        "dataset_url = \"https://conservancy.umn.edu/bitstream/handle/11299/206575/counting.tar.gz?sequence=1&isAllowed=y\"\n",
        "data_dir = tf.keras.utils.get_file(origin=dataset_url, \n",
        "                                   fname='counting', \n",
        "                                   untar=True)"
      ],
      "execution_count": null,
      "outputs": []
    },
    {
      "cell_type": "code",
      "metadata": {
        "colab": {
          "base_uri": "https://localhost:8080/"
        },
        "id": "7W91BrzZjzeF",
        "outputId": "af8556b2-80b7-4a32-97d0-a36e5d7be088"
      },
      "source": [
        "# dataset_url = 'https://conservancy.umn.edu/bitstream/handle/11299/206575/detection.tar.gz?sequence=2&isAllowed=y'\n",
        "# data_dir = tf.keras.utils.get_file(origin=dataset_url, \n",
        "#                                    fname='detection', \n",
        "#                                    untar=True)\n",
        "\n"
      ],
      "execution_count": null,
      "outputs": [
        {
          "output_type": "stream",
          "text": [
            "Downloading data from https://conservancy.umn.edu/bitstream/handle/11299/206575/detection.tar.gz?sequence=2&isAllowed=y\n",
            "1825398784/1825397590 [==============================] - 37s 0us/step\n"
          ],
          "name": "stdout"
        }
      ]
    },
    {
      "cell_type": "code",
      "metadata": {
        "colab": {
          "base_uri": "https://localhost:8080/"
        },
        "id": "9WiTv2r5eXxo",
        "outputId": "8bc13472-7004-43e0-d245-a2bf57fc8c36"
      },
      "source": [
        "os.listdir(data_dir +'/train')"
      ],
      "execution_count": null,
      "outputs": [
        {
          "output_type": "execute_result",
          "data": {
            "text/plain": [
              "['images', 'train_ground_truth.txt']"
            ]
          },
          "metadata": {
            "tags": []
          },
          "execution_count": 86
        }
      ]
    },
    {
      "cell_type": "code",
      "metadata": {
        "id": "2PGSDlX4uzY-"
      },
      "source": [
        ""
      ],
      "execution_count": null,
      "outputs": []
    },
    {
      "cell_type": "code",
      "metadata": {
        "id": "u6389bos8ivu"
      },
      "source": [
        "import pandas as pd\n",
        "labels_train = pd.read_csv(data_dir +'/train/train_ground_truth.txt')\n",
        "labels_train = labels_train['count']\n",
        "\n",
        "labels_val = pd.read_csv( data_dir +'/val/val_ground_truth.txt')\n",
        "labels_val = labels_val['count']\n",
        "\n",
        "\n",
        "# convert this 1D array to 2D array\n",
        "train_labels = np.expand_dims(labels_train, axis=1)\n",
        "val_labels = np.expand_dims(labels_val, axis=1)"
      ],
      "execution_count": null,
      "outputs": []
    },
    {
      "cell_type": "code",
      "metadata": {
        "id": "YjjqU8slwll0"
      },
      "source": [
        "# train_labels = train_labels.tolist();\n",
        "\n",
        "train_labels = np.expand_dims(labels_train, axis=1)\n",
        "val_labels = np.expand_dims(labels_val, axis=1)"
      ],
      "execution_count": null,
      "outputs": []
    },
    {
      "cell_type": "code",
      "metadata": {
        "colab": {
          "base_uri": "https://localhost:8080/"
        },
        "id": "X5A0MnKdjdLt",
        "outputId": "581080fe-9227-4559-b376-11910727d609"
      },
      "source": [
        "train_labels = train_labels[0:64594]\n",
        "val_labels = val_labels[0:900]\n",
        "\n",
        "print(train_labels.size)\n",
        "print(val_labels.size)"
      ],
      "execution_count": null,
      "outputs": [
        {
          "output_type": "stream",
          "text": [
            "64594\n",
            "900\n"
          ],
          "name": "stdout"
        }
      ]
    },
    {
      "cell_type": "code",
      "metadata": {
        "id": "SD2vM2BC7kt3"
      },
      "source": [
        "train_ds = np.empty([64594, 32, 32, 3], dtype=np.uint8)\n",
        "val_ds = np.empty([900, 32, 32, 3], dtype=np.uint8)"
      ],
      "execution_count": null,
      "outputs": []
    },
    {
      "cell_type": "code",
      "metadata": {
        "id": "Qr5794WMnE2I"
      },
      "source": [
        "#List of train image\n",
        "\n",
        "Train_img_Path =data_dir +'/train/images/';\n",
        "from keras.preprocessing.image import img_to_array\n",
        "for i in range (0,64594):\n",
        "\n",
        "  image_name = Train_img_Path + 'images_' + \"%05d\" % i + '.png'\n",
        "  \n",
        "  image_i = Image.open(image_name)\n",
        "\n",
        "  #resize image\n",
        "  new_image = image_i.resize((32, 32))\n",
        "\n",
        "  #conv array\n",
        "  array_image = img_to_array(new_image)\n",
        "\n",
        "  train_ds[i, :, :, :] = array_image\n",
        "\n",
        "    "
      ],
      "execution_count": null,
      "outputs": []
    },
    {
      "cell_type": "code",
      "metadata": {
        "id": "SXIlAmNx8i48"
      },
      "source": [
        "# Load Validation Images\n",
        "Val_img_Path =data_dir +'/val/images/';\n",
        "for i in range (0,900):\n",
        "\n",
        "  image_name = Val_img_Path + 'images_' + \"%05d\" % i + '.png'\n",
        "  \n",
        "  image_i = Image.open(image_name)\n",
        "\n",
        "  #resize image\n",
        "  new_image = image_i.resize((32, 32))\n",
        "\n",
        "  #conv array\n",
        "  array_image = img_to_array(new_image)\n",
        "\n",
        "  val_ds[i, :, :, :] = array_image"
      ],
      "execution_count": null,
      "outputs": []
    },
    {
      "cell_type": "markdown",
      "metadata": {
        "id": "0cibzk1mrzeS"
      },
      "source": [
        "Normalization "
      ]
    },
    {
      "cell_type": "code",
      "metadata": {
        "colab": {
          "base_uri": "https://localhost:8080/"
        },
        "id": "-eOF91CU9Egl",
        "outputId": "cfc552c8-9984-4b6d-c1f8-aeb17f668118"
      },
      "source": [
        "print(len(val_ds))\n",
        "train_ds, val_ds = train_ds / 255.0, val_ds / 255.0"
      ],
      "execution_count": null,
      "outputs": [
        {
          "output_type": "stream",
          "text": [
            "900\n"
          ],
          "name": "stdout"
        }
      ]
    },
    {
      "cell_type": "code",
      "metadata": {
        "colab": {
          "base_uri": "https://localhost:8080/",
          "height": 260
        },
        "id": "qqHYQfh3vU6h",
        "outputId": "21068319-b910-48c3-898d-4e19eedda0d8"
      },
      "source": [
        "class_names = ['0', '1']\n",
        "\n",
        "plt.figure(figsize=(10,4))\n",
        "for i in range(10):\n",
        "    plt.subplot(2,5,i+1)\n",
        "    plt.xticks([])\n",
        "    plt.yticks([])\n",
        "    plt.grid(False)\n",
        "    plt.imshow(train_ds[i, :, :, :], cmap=plt.cm.binary)\n",
        "    plt.xlabel(class_names[train_labels[i][0]])\n",
        "plt.show()\n"
      ],
      "execution_count": null,
      "outputs": [
        {
          "output_type": "display_data",
          "data": {
            "image/png": "[encoded data removed]",
            "text/plain": [
              "<Figure size 720x288 with 10 Axes>"
            ]
          },
          "metadata": {
            "tags": []
          }
        }
      ]
    },
    {
      "cell_type": "code",
      "metadata": {
        "id": "tHCcxbEzZzbr"
      },
      "source": [
        "batch_size = 32\n",
        "img_height = 180\n",
        "img_width = 180"
      ],
      "execution_count": null,
      "outputs": []
    },
    {
      "cell_type": "code",
      "metadata": {
        "colab": {
          "base_uri": "https://localhost:8080/"
        },
        "id": "jly9d15kZvxz",
        "outputId": "fcbaac41-2777-474c-a2ba-290499b71e7a"
      },
      "source": [
        "# train_ds = tf.keras.preprocessing.image_dataset_from_directory(\n",
        "#   data_dir +'/train/',\n",
        "#   labels='inferred',\n",
        "#   label_mode='int',\n",
        "#   class_names=train_labels.all(),\n",
        "#   validation_split=0.9,\n",
        "#   subset=\"training\",\n",
        "#   seed=123,\n",
        "#   image_size=(img_height, img_width),\n",
        "#   batch_size=32)\n",
        "\n",
        "\n"
      ],
      "execution_count": null,
      "outputs": [
        {
          "output_type": "stream",
          "text": [
            "Found 64595 files belonging to 1 classes.\n",
            "Using 6460 files for training.\n"
          ],
          "name": "stdout"
        }
      ]
    },
    {
      "cell_type": "code",
      "metadata": {
        "colab": {
          "base_uri": "https://localhost:8080/"
        },
        "id": "l70mMFU9cyjd",
        "outputId": "9496c750-9dff-4593-e18b-ec1c3408be52"
      },
      "source": [
        "# val_ds = tf.keras.preprocessing.image_dataset_from_directory(\n",
        "#   data_dir +'/val/',\n",
        "#   validation_split=0.5,\n",
        "#   subset=\"validation\",\n",
        "#   seed=123,\n",
        "#   image_size=(img_height, img_width),\n",
        "#   batch_size=batch_size)"
      ],
      "execution_count": null,
      "outputs": [
        {
          "output_type": "stream",
          "text": [
            "Found 3395 files belonging to 1 classes.\n",
            "Using 1697 files for validation.\n"
          ],
          "name": "stdout"
        }
      ]
    },
    {
      "cell_type": "code",
      "metadata": {
        "colab": {
          "base_uri": "https://localhost:8080/"
        },
        "id": "jR4ONP-CvnIz",
        "outputId": "c159618c-ffb6-4818-db90-aacdb938284b"
      },
      "source": [
        "class_names = train_ds.class_names\n",
        "train_ds.interleave"
      ],
      "execution_count": null,
      "outputs": [
        {
          "output_type": "execute_result",
          "data": {
            "text/plain": [
              "<bound method DatasetV2.interleave of <BatchDataset shapes: ((None, 180, 180, 3), (None,)), types: (tf.float32, tf.int32)>>"
            ]
          },
          "metadata": {
            "tags": []
          },
          "execution_count": 53
        }
      ]
    },
    {
      "cell_type": "code",
      "metadata": {
        "colab": {
          "base_uri": "https://localhost:8080/"
        },
        "id": "yySZrk6paExB",
        "outputId": "52bbcb40-c35c-41cb-bc5e-38650adce377"
      },
      "source": [
        "# os.listdir(data_dir +'/train' )\n",
        "# data_dir +'/..'\n",
        "\n",
        "\n",
        "os.listdir('/root/.keras/datasets/')"
      ],
      "execution_count": null,
      "outputs": [
        {
          "output_type": "execute_result",
          "data": {
            "text/plain": [
              "['counting', 'counting.tar.gz']"
            ]
          },
          "metadata": {
            "tags": []
          },
          "execution_count": 20
        }
      ]
    },
    {
      "cell_type": "code",
      "metadata": {
        "colab": {
          "base_uri": "https://localhost:8080/",
          "height": 35
        },
        "id": "yIxaF1YPmMO7",
        "outputId": "dc14a291-f546-4cba-8094-bb989f666efc"
      },
      "source": [
        "train_dataset.imgs[1]"
      ],
      "execution_count": null,
      "outputs": [
        {
          "output_type": "execute_result",
          "data": {
            "application/vnd.google.colaboratory.intrinsic+json": {
              "type": "string"
            },
            "text/plain": [
              "'20150919_174151_image101.png'"
            ]
          },
          "metadata": {
            "tags": []
          },
          "execution_count": 36
        }
      ]
    },
    {
      "cell_type": "markdown",
      "metadata": {
        "papermill": {
          "duration": 0.008437,
          "end_time": "2020-12-30T22:33:52.022395",
          "exception": false,
          "start_time": "2020-12-30T22:33:52.013958",
          "status": "completed"
        },
        "tags": [],
        "id": "_lNl-z-rVh8-"
      },
      "source": [
        "**Training Using Basic CNN (VGG16)**"
      ]
    },
    {
      "cell_type": "code",
      "metadata": {
        "id": "HV2f5YWjdi_e"
      },
      "source": [
        "num_classes = 2\n",
        "\n",
        "model = tf.keras.Sequential([\n",
        "  # layers.experimental.preprocessing.Rescaling(1./255),\n",
        "  layers.Conv2D(32, 3, activation='relu'),\n",
        "  layers.MaxPooling2D(),\n",
        "  layers.Conv2D(64, 3, activation='relu'),\n",
        "  layers.MaxPooling2D(),\n",
        "  layers.Conv2D(64, 3, activation='relu'),\n",
        "\n",
        "  layers.Flatten(),\n",
        "  layers.Dense(128, activation='relu'),\n",
        "  layers.Dense(7)\n",
        "])"
      ],
      "execution_count": null,
      "outputs": []
    },
    {
      "cell_type": "code",
      "metadata": {
        "id": "lvIeG-4GxiuX"
      },
      "source": [
        "model.compile(\n",
        "  optimizer='adam',\n",
        "  loss=tf.losses.SparseCategoricalCrossentropy(from_logits=True),\n",
        "  metrics=['accuracy'])"
      ],
      "execution_count": null,
      "outputs": []
    },
    {
      "cell_type": "code",
      "metadata": {
        "id": "8GQ1QDm16-tV"
      },
      "source": [
        "# model.summary()"
      ],
      "execution_count": null,
      "outputs": []
    },
    {
      "cell_type": "code",
      "metadata": {
        "id": "1QbDVuXyJWkU"
      },
      "source": [
        "opt = keras.optimizers.Adam(learning_rate=0.0001) # choose an optimizer - no need to understand\n",
        "\n",
        "# use some existing CNN architecture - VGG used here, with pre-trained weights\n",
        "# remove the dense layers by \"include_top\" = False. We will add some dense layers\n",
        "# ourselves later\n",
        "base_model = keras.applications.VGG16(weights=\"imagenet\", include_top=False)\n",
        "\n",
        "# add a global average pooling layer to the convolutional based\n",
        "avg = keras.layers.GlobalAveragePooling2D()(base_model.output)\n",
        "\n",
        "# add 1 neuron for the class label to the output layer.\n",
        "# use sigmoid activation function to make this output a float value between 0 and 1\n",
        "class_output = keras.layers.Dense(1, activation=\"sigmoid\")(avg)\n",
        "\n",
        "# combine the 5 neurons to make the output layer\n",
        "model2 = keras.Model(inputs=base_model.input, outputs=[class_output])\n",
        "\n",
        "# use binary cross entropy loss for class prediction and mse loss for bounding box\n",
        "# regression\n",
        "model2.compile(loss=[\"binary_crossentropy\", \"mse\"], loss_weights=[0.8, 0.2], optimizer=opt, metrics=[\"accuracy\"])"
      ],
      "execution_count": null,
      "outputs": []
    },
    {
      "cell_type": "code",
      "metadata": {
        "colab": {
          "base_uri": "https://localhost:8080/"
        },
        "id": "l5yXBISNBu1X",
        "outputId": "71c43900-88c8-4c81-b8c4-80978b26198a"
      },
      "source": [
        "model2.summary()"
      ],
      "execution_count": null,
      "outputs": [
        {
          "output_type": "stream",
          "text": [
            "Model: \"model_5\"\n",
            "_________________________________________________________________\n",
            "Layer (type)                 Output Shape              Param #   \n",
            "=================================================================\n",
            "input_6 (InputLayer)         [(None, None, None, 3)]   0         \n",
            "_________________________________________________________________\n",
            "block1_conv1 (Conv2D)        (None, None, None, 64)    1792      \n",
            "_________________________________________________________________\n",
            "block1_conv2 (Conv2D)        (None, None, None, 64)    36928     \n",
            "_________________________________________________________________\n",
            "block1_pool (MaxPooling2D)   (None, None, None, 64)    0         \n",
            "_________________________________________________________________\n",
            "block2_conv1 (Conv2D)        (None, None, None, 128)   73856     \n",
            "_________________________________________________________________\n",
            "block2_conv2 (Conv2D)        (None, None, None, 128)   147584    \n",
            "_________________________________________________________________\n",
            "block2_pool (MaxPooling2D)   (None, None, None, 128)   0         \n",
            "_________________________________________________________________\n",
            "block3_conv1 (Conv2D)        (None, None, None, 256)   295168    \n",
            "_________________________________________________________________\n",
            "block3_conv2 (Conv2D)        (None, None, None, 256)   590080    \n",
            "_________________________________________________________________\n",
            "block3_conv3 (Conv2D)        (None, None, None, 256)   590080    \n",
            "_________________________________________________________________\n",
            "block3_pool (MaxPooling2D)   (None, None, None, 256)   0         \n",
            "_________________________________________________________________\n",
            "block4_conv1 (Conv2D)        (None, None, None, 512)   1180160   \n",
            "_________________________________________________________________\n",
            "block4_conv2 (Conv2D)        (None, None, None, 512)   2359808   \n",
            "_________________________________________________________________\n",
            "block4_conv3 (Conv2D)        (None, None, None, 512)   2359808   \n",
            "_________________________________________________________________\n",
            "block4_pool (MaxPooling2D)   (None, None, None, 512)   0         \n",
            "_________________________________________________________________\n",
            "block5_conv1 (Conv2D)        (None, None, None, 512)   2359808   \n",
            "_________________________________________________________________\n",
            "block5_conv2 (Conv2D)        (None, None, None, 512)   2359808   \n",
            "_________________________________________________________________\n",
            "block5_conv3 (Conv2D)        (None, None, None, 512)   2359808   \n",
            "_________________________________________________________________\n",
            "block5_pool (MaxPooling2D)   (None, None, None, 512)   0         \n",
            "_________________________________________________________________\n",
            "global_average_pooling2d_5 ( (None, 512)               0         \n",
            "_________________________________________________________________\n",
            "dense_17 (Dense)             (None, 1)                 513       \n",
            "=================================================================\n",
            "Total params: 14,715,201\n",
            "Trainable params: 14,715,201\n",
            "Non-trainable params: 0\n",
            "_________________________________________________________________\n"
          ],
          "name": "stdout"
        }
      ]
    },
    {
      "cell_type": "code",
      "metadata": {
        "colab": {
          "base_uri": "https://localhost:8080/"
        },
        "id": "Fwi07wm3_6t_",
        "outputId": "7f67da6b-f074-4951-ed8e-10ea3cf27b80"
      },
      "source": [
        "# history = model.fit(train_ds, train_labels, epochs=7, \n",
        "#                     validation_data=(val_ds, val_labels)\n",
        "#                     ,shuffle=True)\n",
        "\n",
        "history = model.fit(train_ds, train_labels, epochs=5, validation_data=(val_ds, val_labels),shuffle=True)"
      ],
      "execution_count": null,
      "outputs": [
        {
          "output_type": "stream",
          "text": [
            "Epoch 1/5\n",
            "2019/2019 [==============================] - 7s 3ms/step - loss: 1.3322 - accuracy: 0.4637 - val_loss: 0.3103 - val_accuracy: 0.9022\n",
            "Epoch 2/5\n",
            "2019/2019 [==============================] - 6s 3ms/step - loss: 0.6393 - accuracy: 0.7642 - val_loss: 0.3525 - val_accuracy: 0.8878\n",
            "Epoch 3/5\n",
            "2019/2019 [==============================] - 6s 3ms/step - loss: 0.3946 - accuracy: 0.8580 - val_loss: 0.3400 - val_accuracy: 0.8722\n",
            "Epoch 4/5\n",
            "2019/2019 [==============================] - 6s 3ms/step - loss: 0.2977 - accuracy: 0.8926 - val_loss: 0.3900 - val_accuracy: 0.8656\n",
            "Epoch 5/5\n",
            "2019/2019 [==============================] - 6s 3ms/step - loss: 0.2271 - accuracy: 0.9197 - val_loss: 0.2653 - val_accuracy: 0.9078\n"
          ],
          "name": "stdout"
        }
      ]
    },
    {
      "cell_type": "code",
      "metadata": {
        "id": "Q4VLJoQCwvoL"
      },
      "source": [
        "history2 = model2.fit(train_ds, train_labels, epochs=10, validation_data=(val_ds, val_labels),shuffle=True)"
      ],
      "execution_count": null,
      "outputs": []
    },
    {
      "cell_type": "code",
      "metadata": {
        "id": "iYC5ypv2yDZD"
      },
      "source": [
        "\n",
        "# plot diagnostic learning curves\n",
        "def summarize_diagnostics(history):\n",
        "\t# plot loss\n",
        " \tpyplot.subplot(211)\n",
        "\tpyplot.title('Cross Entropy Loss')\n",
        "\tpyplot.plot(history.history['loss'], color='blue', label='train')\n",
        "\tpyplot.plot(history.history['val_loss'], color='orange', label='test')\n",
        "\t# plot accuracy\n",
        "\tpyplot.subplot(212)\n",
        "\tpyplot.title('Classification Accuracy')\n",
        "\tpyplot.plot(history.history['accuracy'], color='blue', label='train')\n",
        "\tpyplot.plot(history.history['val_accuracy'], color='orange', label='test')\n",
        "\t# save plot to file\n",
        "\tfilename = sys.argv[0].split('/')[-1]\n",
        "\tpyplot.savefig(filename + '_plot.png')\n",
        "\tpyplot.close()\n",
        " \n",
        "# summarize_diagnostics(history)"
      ],
      "execution_count": null,
      "outputs": []
    },
    {
      "cell_type": "code",
      "metadata": {
        "colab": {
          "base_uri": "https://localhost:8080/",
          "height": 301
        },
        "id": "56H59bjpy7wI",
        "outputId": "02257fea-17c4-4b0d-ad7d-39de8961c979"
      },
      "source": [
        "plt.plot(history.history['accuracy'], label='accuracy')\n",
        "plt.plot(history.history['val_accuracy'], label = 'val_accuracy')\n",
        "plt.xlabel('Epoch')\n",
        "plt.ylabel('Accuracy')\n",
        "plt.ylim([0.5, 1])\n",
        "plt.legend(loc='lower right')\n",
        "\n",
        "test_loss, test_acc = model.evaluate(val_ds, verbose=2)"
      ],
      "execution_count": null,
      "outputs": [
        {
          "output_type": "stream",
          "text": [
            "29/29 - 0s - loss: 0.0000e+00 - accuracy: 0.0000e+00\n"
          ],
          "name": "stdout"
        },
        {
          "output_type": "display_data",
          "data": {
            "image/png": "[encoded data removed]",
            "text/plain": [
              "<Figure size 432x288 with 1 Axes>"
            ]
          },
          "metadata": {
            "tags": [],
            "needs_background": "light"
          }
        }
      ]
    },
    {
      "cell_type": "code",
      "metadata": {
        "colab": {
          "base_uri": "https://localhost:8080/",
          "height": 301
        },
        "id": "SDxqeaVbzGdg",
        "outputId": "fa0db7f3-8d20-4e1c-88f1-cd37d1987735"
      },
      "source": [
        "plt.plot(history.history['accuracy'], label='accuracy')\n",
        "plt.plot(history.history['val_accuracy'], label = 'val_accuracy')\n",
        "plt.xlabel('Epoch')\n",
        "plt.ylabel('Accuracy')\n",
        "plt.ylim([0.5, 1])\n",
        "plt.legend(loc='lower right')\n",
        "\n",
        "test_loss, test_acc = model.evaluate(val_ds,  val_labels, verbose=2)"
      ],
      "execution_count": null,
      "outputs": [
        {
          "output_type": "stream",
          "text": [
            "107/107 - 0s - loss: 0.5624 - accuracy: 0.7918\n"
          ],
          "name": "stdout"
        },
        {
          "output_type": "display_data",
          "data": {
            "image/png": "[encoded data removed]",
            "text/plain": [
              "<Figure size 432x288 with 1 Axes>"
            ]
          },
          "metadata": {
            "tags": [],
            "needs_background": "light"
          }
        }
      ]
    },
    {
      "cell_type": "code",
      "metadata": {
        "colab": {
          "base_uri": "https://localhost:8080/"
        },
        "id": "XUZ6aqpGm8W_",
        "outputId": "34ba7f5c-fb2d-444a-d3ee-d7775fb2823f"
      },
      "source": [
        "model.summary()"
      ],
      "execution_count": null,
      "outputs": [
        {
          "output_type": "stream",
          "text": [
            "Model: \"sequential_6\"\n",
            "_________________________________________________________________\n",
            "Layer (type)                 Output Shape              Param #   \n",
            "=================================================================\n",
            "conv2d_18 (Conv2D)           (None, 30, 30, 32)        896       \n",
            "_________________________________________________________________\n",
            "max_pooling2d_13 (MaxPooling (None, 15, 15, 32)        0         \n",
            "_________________________________________________________________\n",
            "conv2d_19 (Conv2D)           (None, 13, 13, 64)        18496     \n",
            "_________________________________________________________________\n",
            "max_pooling2d_14 (MaxPooling (None, 6, 6, 64)          0         \n",
            "_________________________________________________________________\n",
            "conv2d_20 (Conv2D)           (None, 4, 4, 64)          36928     \n",
            "_________________________________________________________________\n",
            "flatten_6 (Flatten)          (None, 1024)              0         \n",
            "_________________________________________________________________\n",
            "dense_18 (Dense)             (None, 128)               131200    \n",
            "_________________________________________________________________\n",
            "dense_19 (Dense)             (None, 7)                 903       \n",
            "=================================================================\n",
            "Total params: 188,423\n",
            "Trainable params: 188,423\n",
            "Non-trainable params: 0\n",
            "_________________________________________________________________\n"
          ],
          "name": "stdout"
        }
      ]
    },
    {
      "cell_type": "code",
      "metadata": {
        "id": "RZrjH558Ds8V"
      },
      "source": [
        "model.save('AppleCounting_Basic_CNN.h5')"
      ],
      "execution_count": null,
      "outputs": []
    },
    {
      "cell_type": "markdown",
      "metadata": {
        "papermill": {
          "duration": 0.042743,
          "end_time": "2020-12-31T00:41:52.748575",
          "exception": false,
          "start_time": "2020-12-31T00:41:52.705832",
          "status": "completed"
        },
        "tags": [],
        "id": "uT-tiPHRVh9B"
      },
      "source": [
        "**Code Test**"
      ]
    },
    {
      "cell_type": "code",
      "metadata": {
        "id": "CjQHw-LXEZPR"
      },
      "source": [
        "os.listdir(data_dir+ '/test/images/')"
      ],
      "execution_count": null,
      "outputs": []
    },
    {
      "cell_type": "markdown",
      "metadata": {
        "id": "UaYDFKTtvvx_"
      },
      "source": [
        "Apple Detection"
      ]
    },
    {
      "cell_type": "code",
      "metadata": {
        "colab": {
          "base_uri": "https://localhost:8080/",
          "height": 394
        },
        "id": "PN3NwRKEnlpA",
        "outputId": "c3ea08f3-b4cc-41d0-9e54-5cfc931d4815"
      },
      "source": [
        "from keras.models import load_model\n",
        "#import cv2\n",
        "import numpy as np\n",
        "\n",
        "model = load_model('AppleCounting_Basic_CNN.h5')\n",
        "\n",
        "#model.compile(optimizer='adam',\n",
        "              #loss=tf.keras.losses.SparseCategoricalCrossentropy(from_logits=True),\n",
        "              #metrics=['accuracy'])\n",
        "\n",
        "i = 3000\n",
        "        \n",
        "# Test_Path = data_dir+ '/test/images/testset1_775cluster_1.jpg';\n",
        "        \n",
        "# image_name = path_test + 'two_apple.jpg' #'images_' + \"%05d\" % i + '.png'\n",
        "\n",
        "test_img = data_dir+ '/test/images/testset1_775cluster_1.jpg';\n",
        "# \n",
        "# test_img = '/content/dataset1_front_661.png'\n",
        "  \n",
        "image_i = Image.open(test_img)  \n",
        "\n",
        "plt.imshow(image_i)\n",
        "\n",
        "  #resize image\n",
        "new_image = image_i.resize((32, 32))\n",
        "\n",
        "  #conv array\n",
        "array_image = img_to_array(new_image)\n",
        "\n",
        "#resize to 0-1\n",
        "array_image = array_image / 255.0\n",
        "\n",
        "\n",
        "img = np.expand_dims(array_image, axis=0)\n",
        "\n",
        "\n",
        " #img = np.reshape(img_to_array,[1,32,32,3])\n",
        "\n",
        "plt.imshow(img[0, :, :, :], cmap=plt.cm.binary)\n",
        "\n",
        "classes = model.predict_classes(img)\n",
        "classe = model.predict(img)\n",
        "\n",
        "print(\"Number of apples predicted:\")\n",
        "print(classes)\n",
        "print(classe)"
      ],
      "execution_count": null,
      "outputs": [
        {
          "output_type": "stream",
          "text": [
            "/usr/local/lib/python3.6/dist-packages/tensorflow/python/keras/engine/sequential.py:450: UserWarning: `model.predict_classes()` is deprecated and will be removed after 2021-01-01. Please use instead:* `np.argmax(model.predict(x), axis=-1)`,   if your model does multi-class classification   (e.g. if it uses a `softmax` last-layer activation).* `(model.predict(x) > 0.5).astype(\"int32\")`,   if your model does binary classification   (e.g. if it uses a `sigmoid` last-layer activation).\n",
            "  warnings.warn('`model.predict_classes()` is deprecated and '\n"
          ],
          "name": "stderr"
        },
        {
          "output_type": "stream",
          "text": [
            "Number of apples predicted:\n",
            "[1]\n",
            "[[ -2.2533283   5.2437744   4.3971643   2.7523744   1.7910761  -2.1427588\n",
            "  -12.9460535]]\n"
          ],
          "name": "stdout"
        },
        {
          "output_type": "display_data",
          "data": {
            "image/png": "[encoded data removed]",
            "text/plain": [
              "<Figure size 432x288 with 1 Axes>"
            ]
          },
          "metadata": {
            "tags": [],
            "needs_background": "light"
          }
        }
      ]
    },
    {
      "cell_type": "code",
      "metadata": {
        "id": "z_jTvm9KG-at"
      },
      "source": [
        "test_img = '/content/dataset1_front_661.png'\n",
        "\n",
        "  \n",
        "image_abs = Image.open(test_img)\n",
        "\n",
        "  #resize image\n",
        "new_image = image_abs.resize((480, 352))\n",
        "\n",
        "  #conv array\n",
        "array_image = img_to_array(new_image)\n",
        "\n",
        "\n",
        "#array_image = np.expand_dims(array_image, axis=0)\n",
        "\n",
        "#print(array_image.shape)"
      ],
      "execution_count": null,
      "outputs": []
    },
    {
      "cell_type": "code",
      "metadata": {
        "id": "f0kMzzsuHJXb"
      },
      "source": [
        "val_images = np.full((660,16,16,3), 0)\n"
      ],
      "execution_count": null,
      "outputs": []
    },
    {
      "cell_type": "code",
      "metadata": {
        "id": "SabQeStHHQDZ"
      },
      "source": [
        "k=0\n",
        "im = image_abs\n",
        "for i in range(0,464,16):\n",
        "    for j in range(0,336,16):\n",
        "        box = (j, i, j+16, i+16)\n",
        "        a = im.crop(box)\n",
        "        #o = a.crop(area)\n",
        "        val_images[k,:,:,:] = a\n",
        "        k = k + 1"
      ],
      "execution_count": null,
      "outputs": []
    },
    {
      "cell_type": "code",
      "metadata": {
        "colab": {
          "base_uri": "https://localhost:8080/"
        },
        "id": "MTZ_h8GtHWJ8",
        "outputId": "c55b1a14-96dc-4bf2-84b5-d38781a33dfc"
      },
      "source": [
        "#resize to 0-1\n",
        "val_images = val_images / 255.0\n",
        "\n",
        "print(val_images.shape)"
      ],
      "execution_count": null,
      "outputs": [
        {
          "output_type": "stream",
          "text": [
            "(660, 16, 16, 3)\n"
          ],
          "name": "stdout"
        }
      ]
    },
    {
      "cell_type": "code",
      "metadata": {
        "colab": {
          "base_uri": "https://localhost:8080/"
        },
        "id": "JZbbIbxhHZPC",
        "outputId": "defb4177-27c7-4dd7-a5a0-45f1c0d3eda4"
      },
      "source": [
        "print(val_images[0,:,:,:].shape)\n",
        "prediction_nb*0.5"
      ],
      "execution_count": null,
      "outputs": [
        {
          "output_type": "stream",
          "text": [
            "(16, 16, 3)\n"
          ],
          "name": "stdout"
        },
        {
          "output_type": "execute_result",
          "data": {
            "text/plain": [
              "array([[0.15431592]], dtype=float32)"
            ]
          },
          "metadata": {
            "tags": []
          },
          "execution_count": 128
        }
      ]
    },
    {
      "cell_type": "markdown",
      "metadata": {
        "id": "ldtIQ20MvrIY"
      },
      "source": [
        "Apple Counting Test"
      ]
    },
    {
      "cell_type": "code",
      "metadata": {
        "colab": {
          "base_uri": "https://localhost:8080/",
          "height": 305
        },
        "id": "xdegYHk1GtfR",
        "outputId": "f0337680-de6d-4c0b-901d-c8724b37c71a"
      },
      "source": [
        "\n",
        "from keras.models import load_model\n",
        "import keras\n",
        "\n",
        "model = load_model('VGGCnnModel.h5')\n",
        "# model = load_model('AppleCounting_Basic_CNN.h5')\n",
        "\n",
        "opt = keras.optimizers.Adam(learning_rate=0.0001) # choose an optimizer - no need to understand\n",
        "model.compile(loss=[\"binary_crossentropy\", \"mse\"], loss_weights=[0.8, 0.2], optimizer=opt, metrics=[\"accuracy\"])\n",
        "\n",
        "\n",
        "tab_cut_images = np.resize(val_images,(660,32,32,3))\n",
        "\n",
        "\n",
        "number_apple = 0\n",
        "\n",
        "for i in range(0,656):\n",
        "    \n",
        "    image_i = tab_cut_images[i,:,:,:]\n",
        "    \n",
        "    image_i = np.expand_dims(image_i, axis=0)\n",
        "    \n",
        "    prediction_nb = model.predict(image_i)\n",
        "    \n",
        "    number_apple = number_apple + prediction_nb*0.5\n",
        "    \n",
        "number_apple = int(number_apple)    \n",
        "\n",
        "plt.imshow(image_abs)\n",
        "print(\"number of apples\")\n",
        "print(number_apple)"
      ],
      "execution_count": null,
      "outputs": [
        {
          "output_type": "stream",
          "text": [
            "number of apples\n",
            "8\n"
          ],
          "name": "stdout"
        },
        {
          "output_type": "display_data",
          "data": {
            "image/png": "[encoded data removed]",
            "text/plain": [
              "<Figure size 432x288 with 1 Axes>"
            ]
          },
          "metadata": {
            "tags": [],
            "needs_background": "light"
          }
        }
      ]
    },
    {
      "cell_type": "markdown",
      "metadata": {
        "id": "B0SSKtHgvptw"
      },
      "source": [
        ""
      ]
    }
  ]
}